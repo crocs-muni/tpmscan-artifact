{
 "cells": [
  {
   "cell_type": "code",
   "execution_count": null,
   "metadata": {},
   "outputs": [],
   "source": [
    "import matplotlib.pyplot as plt\n",
    "\n",
    "# first run nonces.ipynb notebook to extract nonces\n",
    "# uncomment selected fname to inspect the file\n",
    "\n",
    "fname = \"./nonces/INTC_11.5.0.1058_ECDSA_P256_2b2a095ab2480c11.bin\" # the lowest 4 bytes are set to 1\n",
    "# fname = \"./nonces/INTC_11.6.10.1196_ECDSA_P256_102dc84dcd11b462.bin\" # the lowest 4 bytes are set to 1\n",
    "# fname = \"./nonces/INTC_303.12.0.0_ECDSA_P256_820305b505ee236c.bin\" # the lowest 4 bytes are set to 1 \n",
    "# fname = \"./nonces/INTC_403.1.0.0_ECSCHNORR_P256_cd9da95f2758602e.bin\" # down-biased MSB hamming weight\n",
    "# fname = \"./nonces/NTC_7.2.2.0_ECSCHNORR_P256_2f83197874779d62.bin\" # the highest bit is set to 1\n",
    "\n",
    "with open(fname, \"rb\") as f:\n",
    "    data = f.read()\n",
    "\n",
    "data = [data[i:i+32] for i in range(0, len(data), 32)]"
   ]
  },
  {
   "cell_type": "code",
   "execution_count": null,
   "metadata": {},
   "outputs": [],
   "source": [
    "# print each nonce in binary\n",
    "for nonce in data:\n",
    "    for byte in nonce:\n",
    "        print(bin(byte)[2:].zfill(8), end=\"\")\n",
    "    print()"
   ]
  },
  {
   "cell_type": "code",
   "execution_count": null,
   "metadata": {},
   "outputs": [],
   "source": [
    "# compute average hamming weight\n",
    "hamming_weights = [sum([bin(byte).count(\"1\") for byte in nonce]) for nonce in data]\n",
    "print(sum(hamming_weights)/len(hamming_weights))\n",
    "\n",
    "# plot histogram of hamming weights\n",
    "plt.hist(hamming_weights, bins=range(0, 256));"
   ]
  },
  {
   "cell_type": "code",
   "execution_count": null,
   "metadata": {},
   "outputs": [],
   "source": [
    "msb = [nonce[0] for nonce in data]\n",
    "msb\n",
    "\n",
    "# print maximum MSB value\n",
    "print(max(msb))\n",
    "\n",
    "# plot histogram of MSB values\n",
    "plt.hist(msb, bins=range(0, 256));"
   ]
  },
  {
   "cell_type": "code",
   "execution_count": null,
   "metadata": {},
   "outputs": [],
   "source": [
    "# compute average MSB hamming weight\n",
    "msb_hamming = [bin(nonce[0]).count(\"1\") for nonce in data]\n",
    "print(sum(msb_hamming)/len(msb_hamming))\n",
    "\n",
    "# plot histogram of MSB hamming weights\n",
    "plt.hist(msb_hamming, bins=range(0, 9));\n"
   ]
  },
  {
   "cell_type": "code",
   "execution_count": null,
   "metadata": {},
   "outputs": [],
   "source": []
  }
 ],
 "metadata": {
  "kernelspec": {
   "display_name": "Python 3 (ipykernel)",
   "language": "python",
   "name": "python3"
  },
  "language_info": {
   "codemirror_mode": {
    "name": "ipython",
    "version": 3
   },
   "file_extension": ".py",
   "mimetype": "text/x-python",
   "name": "python",
   "nbconvert_exporter": "python",
   "pygments_lexer": "ipython3",
   "version": "3.11.6"
  }
 },
 "nbformat": 4,
 "nbformat_minor": 4
}
