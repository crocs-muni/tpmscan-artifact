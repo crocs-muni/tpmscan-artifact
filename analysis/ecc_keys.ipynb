{
 "cells": [
  {
   "cell_type": "code",
   "execution_count": null,
   "metadata": {},
   "outputs": [],
   "source": [
    "import os\n",
    "import pandas as pd\n",
    "import matplotlib.pyplot as plt\n",
    "from binascii import unhexlify\n",
    "from pathlib import Path\n",
    "from common import *\n",
    "\n",
    "DATASET_PATH = \"../tpmscan-dataset\"\n",
    "\n",
    "def load_key_measurements(dir):\n",
    "    results = []\n",
    "\n",
    "    for path in Path(dir).rglob(\"*/detail/Keygen:ECC_*.csv\"):\n",
    "        path = str(path)\n",
    "\n",
    "        measurement = path.split(os.sep)[-3]\n",
    "        curve = CURVES_REVERSED[int(path.split(os.sep)[-1].split(\"Keygen:ECC_\")[1][:-4], 16)]\n",
    "\n",
    "        try:\n",
    "            data = pd.read_csv(path, sep=\"[,;]\", engine=\"python\")\n",
    "        except:\n",
    "            print(f\"Error reading file: {path}\")\n",
    "            continue\n",
    "\n",
    "        secrets = data[\"private\"]\n",
    "        timings = data[\"duration\"]\n",
    "        if data[[\"private\", \"duration\"]].isnull().values.any():\n",
    "            print(f\"Failed collection: {path}\")\n",
    "            continue\n",
    "\n",
    "        secrets = map(unhexlify, secrets)\n",
    "\n",
    "        results.append({\n",
    "            \"name\": measurement,\n",
    "            \"info\": get_device_info(Path(path).parent.parent / \"results.yaml\"),\n",
    "            \"path\": path,\n",
    "            \"curve\": curve,\n",
    "            \"secrets\": list(secrets),\n",
    "            \"timings\": list(timings),\n",
    "        })\n",
    "\n",
    "    return results\n",
    "\n",
    "measurements = load_key_measurements(DATASET_PATH)\n"
   ]
  },
  {
   "cell_type": "code",
   "execution_count": null,
   "metadata": {},
   "outputs": [],
   "source": [
    "# Save concatenated keys to keys/ directory\n",
    "os.makedirs(\"keys\", exist_ok=True)\n",
    "for m in measurements:\n",
    "    with open(f\"keys/{m['name']}_{m['curve']}.bin\", \"wb\") as f:\n",
    "        f.write(b\"\".join(m[\"secrets\"]))\n"
   ]
  },
  {
   "cell_type": "code",
   "execution_count": null,
   "metadata": {},
   "outputs": [],
   "source": [
    "# Save timing plots to keys_plot/ directory\n",
    "os.makedirs(\"keys_plots\", exist_ok=True)\n",
    "for m in measurements:\n",
    "    plt.figure(figsize=(10, 10))\n",
    "    plt.title(f\"{m['info']['manufacturer']} {m['info']['firmware']} {m['info']['revision']} {m['curve']}\")\n",
    "    plt.xlabel(\"Key MSB\")\n",
    "    plt.ylabel(\"Time (s)\")\n",
    "    plt.xscale(\"log\", base=2)\n",
    "    plt.xticks([2 ** x for x in range(0, 9)])\n",
    "    plt.grid(True, axis=\"x\")\n",
    "\n",
    "    points = zip(list(map(lambda x: int(x[0]), m[\"secrets\"])), m[\"timings\"])\n",
    "    points = sorted(points, key=lambda x: x[1])[:-5]\n",
    "    points = zip(*points)\n",
    "\n",
    "    plt.scatter(*points, marker=\".\", color=\"#d81b60\")\n",
    "    plt.savefig(f\"keys_plots/{m['info']['manufacturer']}_{m['info']['firmware']}_{m['curve']}_{m['name']}.png\", dpi=300, bbox_inches=\"tight\")\n",
    "    plt.close()\n",
    "    break # remove to generate all plots\n"
   ]
  }
 ],
 "metadata": {
  "kernelspec": {
   "display_name": "Python 3 (ipykernel)",
   "language": "python",
   "name": "python3"
  },
  "language_info": {
   "codemirror_mode": {
    "name": "ipython",
    "version": 3
   },
   "file_extension": ".py",
   "mimetype": "text/x-python",
   "name": "python",
   "nbconvert_exporter": "python",
   "pygments_lexer": "ipython3",
   "version": "3.11.6"
  },
  "vscode": {
   "interpreter": {
    "hash": "ac4bde0aa26f0a292602beaa8a1e42791ecccd3bc4eca08279fca2b258d56c34"
   }
  }
 },
 "nbformat": 4,
 "nbformat_minor": 4
}
